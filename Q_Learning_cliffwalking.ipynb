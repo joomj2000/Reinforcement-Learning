{
  "nbformat": 4,
  "nbformat_minor": 0,
  "metadata": {
    "colab": {
      "provenance": [],
      "authorship_tag": "ABX9TyPrUQPnkywuXUHtMYFS9BiL",
      "include_colab_link": true
    },
    "kernelspec": {
      "name": "python3",
      "display_name": "Python 3"
    },
    "language_info": {
      "name": "python"
    }
  },
  "cells": [
    {
      "cell_type": "markdown",
      "metadata": {
        "id": "view-in-github",
        "colab_type": "text"
      },
      "source": [
        "<a href=\"https://colab.research.google.com/github/joomj2000/Reinforcement-Learning/blob/main/Q_Learning_cliffwalking.ipynb\" target=\"_parent\"><img src=\"https://colab.research.google.com/assets/colab-badge.svg\" alt=\"Open In Colab\"/></a>"
      ]
    },
    {
      "cell_type": "code",
      "source": [
        "!pip install gym[toy_text,accept_rom_license]"
      ],
      "metadata": {
        "colab": {
          "base_uri": "https://localhost:8080/"
        },
        "id": "ZQGfyQnkTyns",
        "outputId": "e1989f54-5d30-4bb2-ef9c-7e8535b5a784"
      },
      "execution_count": 2,
      "outputs": [
        {
          "output_type": "stream",
          "name": "stdout",
          "text": [
            "Requirement already satisfied: gym[accept_rom_license,toy_text] in /usr/local/lib/python3.10/dist-packages (0.25.2)\n",
            "\u001b[33mWARNING: gym 0.25.2 does not provide the extra 'accept_rom_license'\u001b[0m\u001b[33m\n",
            "\u001b[0mRequirement already satisfied: numpy>=1.18.0 in /usr/local/lib/python3.10/dist-packages (from gym[accept_rom_license,toy_text]) (1.25.2)\n",
            "Requirement already satisfied: cloudpickle>=1.2.0 in /usr/local/lib/python3.10/dist-packages (from gym[accept_rom_license,toy_text]) (2.2.1)\n",
            "Requirement already satisfied: gym-notices>=0.0.4 in /usr/local/lib/python3.10/dist-packages (from gym[accept_rom_license,toy_text]) (0.0.8)\n",
            "Collecting pygame==2.1.0 (from gym[accept_rom_license,toy_text])\n",
            "  Downloading pygame-2.1.0-cp310-cp310-manylinux_2_17_x86_64.manylinux2014_x86_64.whl (18.3 MB)\n",
            "\u001b[2K     \u001b[90m━━━━━━━━━━━━━━━━━━━━━━━━━━━━━━━━━━━━━━━━\u001b[0m \u001b[32m18.3/18.3 MB\u001b[0m \u001b[31m39.2 MB/s\u001b[0m eta \u001b[36m0:00:00\u001b[0m\n",
            "\u001b[?25hInstalling collected packages: pygame\n",
            "  Attempting uninstall: pygame\n",
            "    Found existing installation: pygame 2.6.0\n",
            "    Uninstalling pygame-2.6.0:\n",
            "      Successfully uninstalled pygame-2.6.0\n",
            "Successfully installed pygame-2.1.0\n"
          ]
        }
      ]
    },
    {
      "cell_type": "code",
      "source": [
        "import numpy as np\n",
        "import random\n",
        "import gym\n",
        "env = gym.make('CliffWalking-v0', new_step_api=True)"
      ],
      "metadata": {
        "id": "EQLQAvoMJR8G"
      },
      "execution_count": 4,
      "outputs": []
    },
    {
      "cell_type": "code",
      "source": [
        "env.action_space"
      ],
      "metadata": {
        "colab": {
          "base_uri": "https://localhost:8080/"
        },
        "id": "FT1DAdfAUDeY",
        "outputId": "b7b2aaaf-4374-4639-d8a4-5f5ef4aaca1b"
      },
      "execution_count": 5,
      "outputs": [
        {
          "output_type": "execute_result",
          "data": {
            "text/plain": [
              "Discrete(4)"
            ]
          },
          "metadata": {},
          "execution_count": 5
        }
      ]
    },
    {
      "cell_type": "code",
      "source": [
        "env.observation_space"
      ],
      "metadata": {
        "colab": {
          "base_uri": "https://localhost:8080/"
        },
        "id": "LcVVCwuIUMAq",
        "outputId": "7da8d43b-f06a-40c8-8b49-7e0dfb1234b5"
      },
      "execution_count": 7,
      "outputs": [
        {
          "output_type": "stream",
          "name": "stderr",
          "text": [
            "/usr/local/lib/python3.10/dist-packages/ipykernel/ipkernel.py:283: DeprecationWarning: `should_run_async` will not call `transform_cell` automatically in the future. Please pass the result to `transformed_cell` argument and any exception that happen during thetransform in `preprocessing_exc_tuple` in IPython 7.17 and above.\n",
            "  and should_run_async(code)\n"
          ]
        },
        {
          "output_type": "execute_result",
          "data": {
            "text/plain": [
              "Discrete(48)"
            ]
          },
          "metadata": {},
          "execution_count": 7
        }
      ]
    },
    {
      "cell_type": "code",
      "source": [
        "# step types\n",
        "STEPTYPE_FIRST = 0\n",
        "STEPTYPE_MID = 1\n",
        "STEPTYPE_LAST = 2\n",
        "\n",
        "Q = np.random.uniform(size=(48, 6))"
      ],
      "metadata": {
        "id": "mVLuiTGxUV2m"
      },
      "execution_count": 11,
      "outputs": []
    },
    {
      "cell_type": "code",
      "source": [
        "# wrapper for gym's blackjack environment\n",
        "def generate_start_step():\n",
        "    return { 'observation': env.reset(), 'reward': 0., 'step_type': STEPTYPE_FIRST }\n",
        "\n",
        "def generate_next_step(step, action):\n",
        "    obs, reward, done, _, info = env.step(action)\n",
        "    step_type = STEPTYPE_LAST if done else STEPTYPE_MID\n",
        "    return { 'observation': obs, 'reward': reward, 'step_type': step_type }"
      ],
      "metadata": {
        "id": "0VitF5CrUrUs"
      },
      "execution_count": 12,
      "outputs": []
    },
    {
      "cell_type": "code",
      "source": [
        "epsilon = 0.1\n",
        "\n",
        "def get_eps_soft_action(step):\n",
        "    if random.random() < epsilon:\n",
        "        return np.random.choice(env.action_space.n,1)[0]\n",
        "    else:\n",
        "        return np.argmax(Q[step['observation']])"
      ],
      "metadata": {
        "colab": {
          "base_uri": "https://localhost:8080/"
        },
        "id": "hFtf-OKOUsmp",
        "outputId": "9849f0db-a735-4c98-c61c-e1f1ce6891a7"
      },
      "execution_count": 13,
      "outputs": [
        {
          "output_type": "stream",
          "name": "stderr",
          "text": [
            "/usr/local/lib/python3.10/dist-packages/ipykernel/ipkernel.py:283: DeprecationWarning: `should_run_async` will not call `transform_cell` automatically in the future. Please pass the result to `transformed_cell` argument and any exception that happen during thetransform in `preprocessing_exc_tuple` in IPython 7.17 and above.\n",
            "  and should_run_async(code)\n"
          ]
        }
      ]
    },
    {
      "cell_type": "code",
      "source": [
        "def get_greedy_action(step):\n",
        "    observ = step['observation']\n",
        "    return np.argmax(Q[observ])"
      ],
      "metadata": {
        "id": "MVQWaQBJUuum"
      },
      "execution_count": 14,
      "outputs": []
    },
    {
      "cell_type": "code",
      "source": [
        "def get_random_action(step):\n",
        "    return random.randint(0, env.action_space.n-1)\n",
        "\n",
        "behavior_prob_hit = 1. / float(env.action_space.n)"
      ],
      "metadata": {
        "id": "HXUlKoHbUwEs"
      },
      "execution_count": 15,
      "outputs": []
    },
    {
      "cell_type": "code",
      "source": [
        "def generate_episode(policy_func=get_random_action):\n",
        "    episode = list()\n",
        "    actions = list()\n",
        "    frames = list()\n",
        "    step = generate_start_step()\n",
        "    frames.append(env.render(mode='ansi'))\n",
        "    episode.append(step)\n",
        "    while step['step_type'] != STEPTYPE_LAST:\n",
        "        action = policy_func(step)\n",
        "        step = generate_next_step(step, action)\n",
        "        frames.append(env.render(mode='ansi'))\n",
        "        episode.append(step)\n",
        "        actions.append(action)\n",
        "    return episode, actions, frames"
      ],
      "metadata": {
        "id": "MaEDeuyuVIUT"
      },
      "execution_count": 16,
      "outputs": []
    },
    {
      "cell_type": "code",
      "source": [
        "from IPython.display import clear_output\n",
        "from time import sleep\n",
        "\n",
        "def print_frames(frames):\n",
        "    for i, frame in enumerate(frames):\n",
        "        clear_output(wait=True)\n",
        "        print(frame)\n",
        "        sleep(.2)"
      ],
      "metadata": {
        "id": "HvTSXqrPVMUL"
      },
      "execution_count": 17,
      "outputs": []
    },
    {
      "cell_type": "code",
      "source": [
        "maxiter = 100000\n",
        "gamma = 1\n",
        "epsilon = 0.3\n",
        "lr_rate = 0.8\n",
        "\n",
        "Q = np.random.uniform(size=(env.observation_space.n, env.action_space.n))\n",
        "\n",
        "for _ in range(maxiter):\n",
        "    # starting step\n",
        "    step = generate_start_step()\n",
        "    action = get_random_action(step)\n",
        "    done = False\n",
        "    while not done:\n",
        "        next_step = generate_next_step(step, action)\n",
        "\n",
        "        if next_step['step_type'] == STEPTYPE_LAST:\n",
        "            state = step['observation']\n",
        "            idx1 = (state, action)\n",
        "            Q[idx1] = Q[idx1] + lr_rate * (next_step['reward'] - Q[idx1])\n",
        "            done = True\n",
        "        else:\n",
        "            best_action = get_greedy_action(next_step)\n",
        "\n",
        "            state = step['observation']\n",
        "            next_state = next_step['observation']\n",
        "            idx1 = (state, action)\n",
        "            idx2 = (next_state, best_action)\n",
        "            Q[idx1] = Q[idx1] + lr_rate * ((next_step['reward'] + gamma * Q[idx2]) - Q[idx1])\n",
        "\n",
        "            next_action = get_eps_soft_action(step)\n",
        "\n",
        "            step = next_step\n",
        "            action = next_action\n"
      ],
      "metadata": {
        "colab": {
          "base_uri": "https://localhost:8080/"
        },
        "id": "PEgCI5ENVOlR",
        "outputId": "cf749cc0-aee6-4bd9-c02b-47e042028d2c"
      },
      "execution_count": 18,
      "outputs": [
        {
          "output_type": "stream",
          "name": "stderr",
          "text": [
            "/usr/local/lib/python3.10/dist-packages/gym/utils/passive_env_checker.py:241: DeprecationWarning: `np.bool8` is a deprecated alias for `np.bool_`.  (Deprecated NumPy 1.24)\n",
            "  if not isinstance(terminated, (bool, np.bool8)):\n"
          ]
        }
      ]
    },
    {
      "cell_type": "code",
      "source": [
        "epi, actions, frames = generate_episode(policy_func=get_greedy_action)\n",
        "print_frames(frames)"
      ],
      "metadata": {
        "colab": {
          "base_uri": "https://localhost:8080/"
        },
        "id": "Bcfe2vISVVxF",
        "outputId": "3fa16c5c-f38c-478d-dd94-f9b7297018fb"
      },
      "execution_count": 19,
      "outputs": [
        {
          "output_type": "stream",
          "name": "stdout",
          "text": [
            "o  o  o  o  o  o  o  o  o  o  o  o\n",
            "o  o  o  o  o  o  o  o  o  o  o  o\n",
            "o  o  o  o  o  o  o  o  o  o  o  o\n",
            "o  C  C  C  C  C  C  C  C  C  C  x\n",
            "\n",
            "\n"
          ]
        }
      ]
    },
    {
      "cell_type": "code",
      "source": [],
      "metadata": {
        "id": "zEdjBcqSVfjk"
      },
      "execution_count": null,
      "outputs": []
    }
  ]
}